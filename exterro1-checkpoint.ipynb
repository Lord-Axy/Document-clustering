{
 "cells": [
  {
   "cell_type": "code",
   "execution_count": 1,
   "metadata": {
    "collapsed": true
   },
   "outputs": [],
   "source": [
    "import numpy as np\n",
    "import os\n",
    "import pandas as pd\n",
    "from sklearn.feature_extraction.text import TfidfVectorizer\n",
    "from sklearn.cluster import KMeans\n",
    "from sklearn.metrics import adjusted_rand_score"
   ]
  },
  {
   "cell_type": "code",
   "execution_count": 2,
   "metadata": {
    "collapsed": true
   },
   "outputs": [],
   "source": [
    "data_dir=os.listdir('data')"
   ]
  },
  {
   "cell_type": "code",
   "execution_count": 3,
   "metadata": {
    "collapsed": true
   },
   "outputs": [],
   "source": [
    "ath_dir = os.listdir('data/alt.atheism')"
   ]
  },
  {
   "cell_type": "code",
   "execution_count": 4,
   "metadata": {
    "collapsed": true
   },
   "outputs": [],
   "source": [
    "ath=\"\"\n",
    "for fil in ath_dir:\n",
    "    doc = 'data/alt.atheism/'+fil\n",
    "    with open(doc, encoding=\"utf8\", errors='ignore') as f:\n",
    "        contents = f.read()\n",
    "    ath = ath + contents"
   ]
  },
  {
   "cell_type": "code",
   "execution_count": 5,
   "metadata": {
    "collapsed": true
   },
   "outputs": [],
   "source": [
    "graphics_dir = os.listdir('data/comp.graphics')"
   ]
  },
  {
   "cell_type": "code",
   "execution_count": 6,
   "metadata": {
    "collapsed": true
   },
   "outputs": [],
   "source": [
    "graphics=\"\"\n",
    "for fil in graphics_dir:\n",
    "    doc = 'data/comp.graphics/'+fil\n",
    "    with open(doc, encoding=\"utf8\", errors='ignore') as f:\n",
    "        contents = f.read()\n",
    "    graphics = graphics + contents"
   ]
  },
  {
   "cell_type": "code",
   "execution_count": 7,
   "metadata": {
    "collapsed": true
   },
   "outputs": [],
   "source": [
    "compmisc_dir = os.listdir('data/comp.os.ms-windows.misc')"
   ]
  },
  {
   "cell_type": "code",
   "execution_count": 8,
   "metadata": {
    "collapsed": true
   },
   "outputs": [],
   "source": [
    "compmisc=\"\"\n",
    "for fil in compmisc_dir:\n",
    "    doc = 'data/comp.os.ms-windows.misc/'+fil\n",
    "    with open(doc, encoding=\"utf8\", errors='ignore') as f:\n",
    "        contents = f.read()\n",
    "    compmisc = compmisc + contents"
   ]
  },
  {
   "cell_type": "code",
   "execution_count": 9,
   "metadata": {
    "collapsed": true
   },
   "outputs": [],
   "source": [
    "ibm_hardware_dir=os.listdir('data/comp.sys.ibm.pc.hardware')"
   ]
  },
  {
   "cell_type": "code",
   "execution_count": 10,
   "metadata": {
    "collapsed": true
   },
   "outputs": [],
   "source": [
    "ibm_hardware=\"\"\n",
    "for fil in ibm_hardware_dir:\n",
    "    doc = 'data/comp.sys.ibm.pc.hardware/'+fil\n",
    "    with open(doc, encoding=\"utf8\", errors='ignore') as f:\n",
    "        contents = f.read()\n",
    "    ibm_hardware = ibm_hardware + contents"
   ]
  },
  {
   "cell_type": "code",
   "execution_count": 11,
   "metadata": {
    "collapsed": true
   },
   "outputs": [],
   "source": [
    "mac_hardware_dir = os.listdir('data/comp.sys.mac.hardware')"
   ]
  },
  {
   "cell_type": "code",
   "execution_count": 12,
   "metadata": {
    "collapsed": true
   },
   "outputs": [],
   "source": [
    "mac_hardware=\"\"\n",
    "for fil in mac_hardware_dir:\n",
    "    doc = 'data/comp.sys.mac.hardware/'+fil\n",
    "    with open(doc, encoding=\"utf8\", errors='ignore') as f:\n",
    "        contents = f.read()\n",
    "    mac_hardware = mac_hardware + contents"
   ]
  },
  {
   "cell_type": "code",
   "execution_count": 13,
   "metadata": {
    "collapsed": true
   },
   "outputs": [],
   "source": [
    "windows_dir = os.listdir('data/comp.windows.x')"
   ]
  },
  {
   "cell_type": "code",
   "execution_count": 14,
   "metadata": {
    "collapsed": true
   },
   "outputs": [],
   "source": [
    "windows=\"\"\n",
    "for fil in windows_dir:\n",
    "    doc = 'data/comp.windows.x/'+fil\n",
    "    with open(doc, encoding=\"utf8\", errors='ignore') as f:\n",
    "        contents = f.read()\n",
    "    windows = windows + contents"
   ]
  },
  {
   "cell_type": "code",
   "execution_count": 15,
   "metadata": {
    "collapsed": true
   },
   "outputs": [],
   "source": [
    "forsale_dir = os.listdir('data/misc.forsale')"
   ]
  },
  {
   "cell_type": "code",
   "execution_count": 16,
   "metadata": {
    "collapsed": true
   },
   "outputs": [],
   "source": [
    "forsale=\"\"\n",
    "for fil in forsale_dir:\n",
    "    doc = 'data/misc.forsale/'+fil\n",
    "    with open(doc, encoding=\"utf8\", errors='ignore') as f:\n",
    "        contents = f.read()\n",
    "    forsale = forsale + contents"
   ]
  },
  {
   "cell_type": "code",
   "execution_count": 17,
   "metadata": {
    "collapsed": true
   },
   "outputs": [],
   "source": [
    "autos_dir = os.listdir('data/rec.autos')"
   ]
  },
  {
   "cell_type": "code",
   "execution_count": 18,
   "metadata": {
    "collapsed": true
   },
   "outputs": [],
   "source": [
    "autos=\"\"\n",
    "for fil in autos_dir:\n",
    "    doc = 'data/rec.autos/'+fil\n",
    "    with open(doc, encoding=\"utf8\", errors='ignore') as f:\n",
    "        contents = f.read()\n",
    "    autos = autos + contents"
   ]
  },
  {
   "cell_type": "code",
   "execution_count": 19,
   "metadata": {
    "collapsed": true
   },
   "outputs": [],
   "source": [
    "motorcycles_dir = os.listdir('data/rec.motorcycles')"
   ]
  },
  {
   "cell_type": "code",
   "execution_count": 20,
   "metadata": {
    "collapsed": true
   },
   "outputs": [],
   "source": [
    "motorcycles = \"\"\n",
    "for fil in motorcycles_dir:\n",
    "    doc = 'data/rec.motorcycles/'+fil\n",
    "    with open(doc, encoding=\"utf8\", errors='ignore') as f:\n",
    "        contents = f.read()\n",
    "    motorcycles = motorcycles + contents"
   ]
  },
  {
   "cell_type": "code",
   "execution_count": 21,
   "metadata": {
    "collapsed": true
   },
   "outputs": [],
   "source": [
    "baseball_dir = os.listdir('data/rec.sport.baseball')"
   ]
  },
  {
   "cell_type": "code",
   "execution_count": 22,
   "metadata": {
    "collapsed": true
   },
   "outputs": [],
   "source": [
    "baseball = \"\"\n",
    "for fil in baseball_dir:\n",
    "    doc = 'data/rec.sport.baseball/'+fil\n",
    "    with open(doc, encoding=\"utf8\", errors='ignore') as f:\n",
    "        contents = f.read()\n",
    "    baseball = baseball + contents"
   ]
  },
  {
   "cell_type": "code",
   "execution_count": 23,
   "metadata": {
    "collapsed": true
   },
   "outputs": [],
   "source": [
    "hockey_dir = os.listdir(\"data/rec.sport.hockey\")"
   ]
  },
  {
   "cell_type": "code",
   "execution_count": 24,
   "metadata": {
    "collapsed": true
   },
   "outputs": [],
   "source": [
    "hockey = \"\"\n",
    "for fil in hockey_dir:\n",
    "    doc = 'data/rec.sport.hockey/'+fil\n",
    "    with open(doc, encoding=\"utf8\", errors='ignore') as f:\n",
    "        contents = f.read()\n",
    "    hockey = hockey + contents"
   ]
  },
  {
   "cell_type": "code",
   "execution_count": 25,
   "metadata": {
    "collapsed": true
   },
   "outputs": [],
   "source": [
    "crypt_dir = os.listdir('data/sci.crypt')"
   ]
  },
  {
   "cell_type": "code",
   "execution_count": 26,
   "metadata": {
    "collapsed": true
   },
   "outputs": [],
   "source": [
    "crypt = \"\"\n",
    "for fil in crypt_dir:\n",
    "    doc = 'data/sci.crypt/'+fil\n",
    "    with open(doc, encoding=\"utf8\", errors='ignore') as f:\n",
    "        contents = f.read()\n",
    "    crypt = crypt + contents"
   ]
  },
  {
   "cell_type": "code",
   "execution_count": 27,
   "metadata": {
    "collapsed": true
   },
   "outputs": [],
   "source": [
    "electronics_dir = os.listdir('data/sci.electronics')"
   ]
  },
  {
   "cell_type": "code",
   "execution_count": 28,
   "metadata": {
    "collapsed": true
   },
   "outputs": [],
   "source": [
    "electronics = \"\"\n",
    "for fil in electronics_dir:\n",
    "    doc = 'data/sci.electronics/'+fil\n",
    "    with open(doc, encoding=\"utf8\", errors='ignore') as f:\n",
    "        contents = f.read()\n",
    "    electronics = electronics + contents"
   ]
  },
  {
   "cell_type": "code",
   "execution_count": 29,
   "metadata": {
    "collapsed": true
   },
   "outputs": [],
   "source": [
    "med_dir = os.listdir('data/sci.med')"
   ]
  },
  {
   "cell_type": "code",
   "execution_count": 30,
   "metadata": {
    "collapsed": true
   },
   "outputs": [],
   "source": [
    "med = \"\"\n",
    "for fil in med_dir:\n",
    "    doc = 'data/sci.med/'+fil\n",
    "    with open(doc, encoding=\"utf8\", errors='ignore') as f:\n",
    "        contents = f.read()\n",
    "    med = med + contents"
   ]
  },
  {
   "cell_type": "code",
   "execution_count": 31,
   "metadata": {
    "collapsed": true
   },
   "outputs": [],
   "source": [
    "space_dir = os.listdir('data/sci.space')"
   ]
  },
  {
   "cell_type": "code",
   "execution_count": 32,
   "metadata": {
    "collapsed": true
   },
   "outputs": [],
   "source": [
    "space = \"\"\n",
    "for fil in space_dir:\n",
    "    doc = 'data/sci.space/'+fil\n",
    "    with open(doc, encoding=\"utf8\", errors='ignore') as f:\n",
    "        contents = f.read()\n",
    "    space = space + contents"
   ]
  },
  {
   "cell_type": "code",
   "execution_count": 33,
   "metadata": {
    "collapsed": true
   },
   "outputs": [],
   "source": [
    "soc_dir = os.listdir('data/soc.religion.christian')"
   ]
  },
  {
   "cell_type": "code",
   "execution_count": 34,
   "metadata": {
    "collapsed": true
   },
   "outputs": [],
   "source": [
    "soc =\"\"\n",
    "for fil in soc_dir:\n",
    "    doc = 'data/soc.religion.christian/'+fil\n",
    "    with open(doc, encoding=\"utf8\", errors='ignore') as f:\n",
    "        contents = f.read()\n",
    "    soc = soc + contents"
   ]
  },
  {
   "cell_type": "code",
   "execution_count": 35,
   "metadata": {
    "collapsed": true
   },
   "outputs": [],
   "source": [
    "guns_dir = os.listdir('data/talk.politics.guns')"
   ]
  },
  {
   "cell_type": "code",
   "execution_count": 36,
   "metadata": {
    "collapsed": true
   },
   "outputs": [],
   "source": [
    "guns =\"\"\n",
    "for fil in guns_dir:\n",
    "    doc = 'data/talk.politics.guns/'+fil\n",
    "    with open(doc, encoding=\"utf8\", errors='ignore') as f:\n",
    "        contents = f.read()\n",
    "    guns = guns + contents"
   ]
  },
  {
   "cell_type": "code",
   "execution_count": 37,
   "metadata": {
    "collapsed": true
   },
   "outputs": [],
   "source": [
    "mideast_dir = os.listdir('data/talk.politics.mideast')"
   ]
  },
  {
   "cell_type": "code",
   "execution_count": 38,
   "metadata": {
    "collapsed": true
   },
   "outputs": [],
   "source": [
    "mideast =\"\"\n",
    "for fil in mideast_dir:\n",
    "    doc = 'data/talk.politics.mideast/'+fil\n",
    "    with open(doc, encoding=\"utf8\", errors='ignore') as f:\n",
    "        contents = f.read()\n",
    "    mideast = mideast + contents"
   ]
  },
  {
   "cell_type": "code",
   "execution_count": 39,
   "metadata": {
    "collapsed": true
   },
   "outputs": [],
   "source": [
    "misc_dir = os.listdir('data/talk.politics.misc')"
   ]
  },
  {
   "cell_type": "code",
   "execution_count": 40,
   "metadata": {
    "collapsed": true
   },
   "outputs": [],
   "source": [
    "misc =\"\"\n",
    "for fil in misc_dir:\n",
    "    doc = 'data/talk.politics.misc/'+fil\n",
    "    with open(doc, encoding=\"utf8\", errors='ignore') as f:\n",
    "        contents = f.read()\n",
    "    misc = misc + contents"
   ]
  },
  {
   "cell_type": "code",
   "execution_count": 41,
   "metadata": {
    "collapsed": true
   },
   "outputs": [],
   "source": [
    "religion_dir = os.listdir('data/talk.religion.misc')"
   ]
  },
  {
   "cell_type": "code",
   "execution_count": 42,
   "metadata": {
    "collapsed": true
   },
   "outputs": [],
   "source": [
    "religion =\"\"\n",
    "for fil in religion_dir:\n",
    "    doc = 'data/talk.religion.misc/'+fil\n",
    "    with open(doc, encoding=\"utf8\", errors='ignore') as f:\n",
    "        contents = f.read()\n",
    "    religion = religion + contents"
   ]
  },
  {
   "cell_type": "code",
   "execution_count": 43,
   "metadata": {
    "collapsed": true
   },
   "outputs": [],
   "source": [
    "documents=[ath,graphics,compmisc,ibm_hardware,mac_hardware,windows,forsale,autos,motorcycles,baseball,hockey,crypt,electronics,med,space,soc,guns,mideast,misc,religion]"
   ]
  },
  {
   "cell_type": "code",
   "execution_count": 44,
   "metadata": {
    "collapsed": true
   },
   "outputs": [],
   "source": [
    "vectorizer = TfidfVectorizer(stop_words='english')\n",
    "X = vectorizer.fit_transform(documents)"
   ]
  },
  {
   "cell_type": "code",
   "execution_count": 45,
   "metadata": {},
   "outputs": [
    {
     "data": {
      "text/plain": [
       "KMeans(algorithm='auto', copy_x=True, init='k-means++', max_iter=300,\n",
       "    n_clusters=20, n_init=1, n_jobs=1, precompute_distances='auto',\n",
       "    random_state=None, tol=0.0001, verbose=0)"
      ]
     },
     "execution_count": 45,
     "metadata": {},
     "output_type": "execute_result"
    }
   ],
   "source": [
    "true_k = 20\n",
    "model = KMeans(n_clusters=true_k, init='k-means++', n_init=1)\n",
    "model.fit(X)"
   ]
  },
  {
   "cell_type": "code",
   "execution_count": 46,
   "metadata": {
    "collapsed": true
   },
   "outputs": [],
   "source": [
    "order_centroids = model.cluster_centers_.argsort()[:, ::-1]\n",
    "terms = vectorizer.get_feature_names()"
   ]
  },
  {
   "cell_type": "code",
   "execution_count": 48,
   "metadata": {
    "collapsed": true
   },
   "outputs": [],
   "source": [
    "label1 = ['alt.atheism','comp.graphics','comp.os.ms-windows.misc','comp.sys.ibm.pc.hardware','comp.sys.mac.hardware','comp.windows.x','misc.forsale','rec.autos','rec.motorcycles','rec.sport.baseball','rec.sport.hockey','sci.crypt','sci.electronics','sci.med','sci.space','soc.religion.christian','talk.politics.guns','talk.politics.mideast','talk.politics.misc','talk.religion.misc']"
   ]
  },
  {
   "cell_type": "code",
   "execution_count": 49,
   "metadata": {
    "collapsed": true
   },
   "outputs": [],
   "source": [
    "di = dict()\n",
    "labe = model.labels_"
   ]
  },
  {
   "cell_type": "code",
   "execution_count": 50,
   "metadata": {},
   "outputs": [
    {
     "name": "stdout",
     "output_type": "stream",
     "text": [
      "{0: ['comp.sys.ibm.pc.hardware'], 1: ['rec.autos'], 2: ['rec.sport.hockey'], 3: ['talk.politics.misc'], 4: ['comp.os.ms-windows.misc'], 5: ['talk.politics.mideast'], 6: ['soc.religion.christian'], 7: ['comp.graphics'], 8: ['rec.sport.baseball'], 9: ['sci.space'], 10: ['sci.med'], 11: ['sci.crypt'], 12: ['comp.windows.x'], 13: ['sci.electronics'], 14: ['misc.forsale'], 15: ['talk.politics.guns'], 16: ['rec.motorcycles'], 17: ['alt.atheism'], 18: ['comp.sys.mac.hardware'], 19: ['talk.religion.misc']}\n"
     ]
    }
   ],
   "source": [
    "for i in range (true_k):\n",
    "    se = list()\n",
    "    for (x,l) in zip(label1,labe):\n",
    "        if (l == i):\n",
    "            se.append(x)\n",
    "    di[i]=se\n",
    "print(di)"
   ]
  },
  {
   "cell_type": "code",
   "execution_count": 58,
   "metadata": {},
   "outputs": [
    {
     "name": "stdout",
     "output_type": "stream",
     "text": [
      "Top terms per cluster:\n",
      "Cluster 0:\n",
      " scsi\n",
      " edu\n",
      " ide\n",
      " drive\n",
      " com\n",
      " lines\n",
      " subject\n",
      " organization\n",
      " controller\n",
      " card\n",
      "Cluster 1:\n",
      " edu\n",
      " car\n",
      " com\n",
      " subject\n",
      " lines\n",
      " organization\n",
      " article\n",
      " cars\n",
      " writes\n",
      " just\n",
      "Cluster 2:\n",
      " hockey\n",
      " nhl\n",
      " edu\n",
      " team\n",
      " leafs\n",
      " ca\n",
      " subject\n",
      " lines\n",
      " organization\n",
      " game\n",
      "Cluster 3:\n",
      " stephanopoulos\n",
      " edu\n",
      " com\n",
      " people\n",
      " cramer\n",
      " writes\n",
      " article\n",
      " optilink\n",
      " don\n",
      " subject\n",
      "Cluster 4:\n",
      " ax\n",
      " max\n",
      " g9v\n",
      " b8f\n",
      " a86\n",
      " 34u\n",
      " 0t\n",
      " 1d9\n",
      " 75u\n",
      " 2di\n",
      "Cluster 5:\n",
      " armenian\n",
      " armenians\n",
      " turkish\n",
      " israeli\n",
      " israel\n",
      " edu\n",
      " jews\n",
      " armenia\n",
      " people\n",
      " argic\n",
      "Cluster 6:\n",
      " god\n",
      " edu\n",
      " christians\n",
      " jesus\n",
      " subject\n",
      " people\n",
      " church\n",
      " lines\n",
      " christ\n",
      " bible\n",
      "Cluster 7:\n",
      " edu\n",
      " graphics\n",
      " lines\n",
      " jpeg\n",
      " subject\n",
      " image\n",
      " organization\n",
      " com\n",
      " university\n",
      " 3d\n",
      "Cluster 8:\n",
      " edu\n",
      " subject\n",
      " lines\n",
      " organization\n",
      " year\n",
      " pitching\n",
      " baseball\n",
      " writes\n",
      " article\n",
      " com\n",
      "Cluster 9:\n",
      " space\n",
      " edu\n",
      " nasa\n",
      " orbit\n",
      " subject\n",
      " organization\n",
      " lines\n",
      " lunar\n",
      " launch\n",
      " com\n",
      "Cluster 10:\n",
      " edu\n",
      " com\n",
      " geb\n",
      " subject\n",
      " organization\n",
      " lines\n",
      " msg\n",
      " dyer\n",
      " article\n",
      " pitt\n",
      "Cluster 11:\n",
      " encryption\n",
      " clipper\n",
      " key\n",
      " escrow\n",
      " com\n",
      " edu\n",
      " db\n",
      " crypto\n",
      " chip\n",
      " nsa\n",
      "Cluster 12:\n",
      " edu\n",
      " widget\n",
      " com\n",
      " window\n",
      " motif\n",
      " subject\n",
      " lines\n",
      " organization\n",
      " file\n",
      " xterm\n",
      "Cluster 13:\n",
      " edu\n",
      " subject\n",
      " lines\n",
      " organization\n",
      " com\n",
      " use\n",
      " wiring\n",
      " writes\n",
      " circuit\n",
      " host\n",
      "Cluster 14:\n",
      " edu\n",
      " 00\n",
      " subject\n",
      " lines\n",
      " sale\n",
      " organization\n",
      " new\n",
      " com\n",
      " university\n",
      " posting\n",
      "Cluster 15:\n",
      " edu\n",
      " gun\n",
      " com\n",
      " firearms\n",
      " guns\n",
      " people\n",
      " subject\n",
      " lines\n",
      " organization\n",
      " writes\n",
      "Cluster 16:\n",
      " bike\n",
      " com\n",
      " edu\n",
      " dod\n",
      " subject\n",
      " organization\n",
      " lines\n",
      " article\n",
      " writes\n",
      " bikes\n",
      "Cluster 17:\n",
      " edu\n",
      " atheists\n",
      " atheism\n",
      " god\n",
      " people\n",
      " writes\n",
      " com\n",
      " subject\n",
      " livesey\n",
      " lines\n",
      "Cluster 18:\n",
      " edu\n",
      " lines\n",
      " subject\n",
      " mac\n",
      " organization\n",
      " apple\n",
      " quadra\n",
      " scsi\n",
      " com\n",
      " centris\n",
      "Cluster 19:\n",
      " edu\n",
      " com\n",
      " jesus\n",
      " sandvik\n",
      " god\n",
      " subject\n",
      " people\n",
      " organization\n",
      " lines\n",
      " writes\n"
     ]
    }
   ],
   "source": [
    "print(\"Top terms per cluster:\")\n",
    "for i in range(true_k):\n",
    "    print(\"Cluster %d: (%d)\" % i %di[i]),\n",
    "    for ind in order_centroids[i, :10]:\n",
    "        print(' %s' % terms[ind])"
   ]
  },
  {
   "cell_type": "code",
   "execution_count": 59,
   "metadata": {
    "collapsed": true
   },
   "outputs": [],
   "source": [
    "with open('53995', encoding=\"utf8\", errors='ignore') as f:\n",
    "  contents = f.read()\n",
    "pred=contents"
   ]
  },
  {
   "cell_type": "code",
   "execution_count": 60,
   "metadata": {},
   "outputs": [
    {
     "name": "stdout",
     "output_type": "stream",
     "text": [
      "[14]\n"
     ]
    }
   ],
   "source": [
    "Y = vectorizer.transform([pred])\n",
    "prediction = model.predict(Y)\n",
    "print(prediction)"
   ]
  },
  {
   "cell_type": "code",
   "execution_count": 61,
   "metadata": {},
   "outputs": [
    {
     "data": {
      "text/plain": [
       "['misc.forsale']"
      ]
     },
     "execution_count": 61,
     "metadata": {},
     "output_type": "execute_result"
    }
   ],
   "source": [
    "di[prediction[0]]"
   ]
  },
  {
   "cell_type": "code",
   "execution_count": 62,
   "metadata": {},
   "outputs": [
    {
     "data": {
      "text/plain": [
       "{0: ['comp.sys.ibm.pc.hardware'],\n",
       " 1: ['rec.autos'],\n",
       " 2: ['rec.sport.hockey'],\n",
       " 3: ['talk.politics.misc'],\n",
       " 4: ['comp.os.ms-windows.misc'],\n",
       " 5: ['talk.politics.mideast'],\n",
       " 6: ['soc.religion.christian'],\n",
       " 7: ['comp.graphics'],\n",
       " 8: ['rec.sport.baseball'],\n",
       " 9: ['sci.space'],\n",
       " 10: ['sci.med'],\n",
       " 11: ['sci.crypt'],\n",
       " 12: ['comp.windows.x'],\n",
       " 13: ['sci.electronics'],\n",
       " 14: ['misc.forsale'],\n",
       " 15: ['talk.politics.guns'],\n",
       " 16: ['rec.motorcycles'],\n",
       " 17: ['alt.atheism'],\n",
       " 18: ['comp.sys.mac.hardware'],\n",
       " 19: ['talk.religion.misc']}"
      ]
     },
     "execution_count": 62,
     "metadata": {},
     "output_type": "execute_result"
    }
   ],
   "source": [
    "di"
   ]
  },
  {
   "cell_type": "code",
   "execution_count": null,
   "metadata": {
    "collapsed": true
   },
   "outputs": [],
   "source": []
  },
  {
   "cell_type": "code",
   "execution_count": null,
   "metadata": {
    "collapsed": true
   },
   "outputs": [],
   "source": []
  }
 ],
 "metadata": {
  "kernelspec": {
   "display_name": "Python 3",
   "language": "python",
   "name": "python3"
  },
  "language_info": {
   "codemirror_mode": {
    "name": "ipython",
    "version": 3
   },
   "file_extension": ".py",
   "mimetype": "text/x-python",
   "name": "python",
   "nbconvert_exporter": "python",
   "pygments_lexer": "ipython3",
   "version": "3.7.6"
  }
 },
 "nbformat": 4,
 "nbformat_minor": 2
}
